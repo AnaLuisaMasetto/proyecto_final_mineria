{
 "cells": [
  {
   "cell_type": "code",
   "execution_count": 1,
   "metadata": {},
   "outputs": [],
   "source": [
    "import numpy as np\n",
    "import pandas as pd\n",
    "import matplotlib.pyplot as plt"
   ]
  },
  {
   "cell_type": "code",
   "execution_count": 2,
   "metadata": {},
   "outputs": [],
   "source": [
    "train = pd.read_csv('train_clean.csv')"
   ]
  },
  {
   "cell_type": "code",
   "execution_count": 14,
   "metadata": {},
   "outputs": [],
   "source": [
    "train['TripType'] = train['TripType'].astype('category')"
   ]
  },
  {
   "cell_type": "code",
   "execution_count": 4,
   "metadata": {},
   "outputs": [],
   "source": [
    "train = pd.get_dummies( train, 'Weekday' )\n",
    "X_train = train.iloc[:,2:len(train.columns)]"
   ]
  },
  {
   "cell_type": "code",
   "execution_count": 11,
   "metadata": {},
   "outputs": [
    {
     "data": {
      "text/plain": [
       "matrix([[1., 0., 0., ..., 0., 0., 0.],\n",
       "        [1., 0., 0., ..., 0., 0., 0.],\n",
       "        [1., 0., 0., ..., 0., 0., 0.],\n",
       "        ...,\n",
       "        [0., 0., 0., ..., 0., 0., 1.],\n",
       "        [0., 0., 0., ..., 0., 0., 1.],\n",
       "        [0., 0., 0., ..., 0., 0., 1.]])"
      ]
     },
     "execution_count": 11,
     "metadata": {},
     "output_type": "execute_result"
    }
   ],
   "source": [
    "from sklearn.preprocessing import OneHotEncoder\n",
    "one_hot_encoder = OneHotEncoder()\n",
    "y_train = one_hot_encoder.fit_transform(train['TripType'][:, np.newaxis]).todense()"
   ]
  },
  {
   "cell_type": "code",
   "execution_count": 5,
   "metadata": {},
   "outputs": [
    {
     "data": {
      "text/plain": [
       "array([[0.14285714, 0.08695652, 0.25      , ..., 0.        , 0.        ,\n",
       "        0.        ],\n",
       "       [0.14285714, 0.08695652, 0.25      , ..., 0.        , 0.        ,\n",
       "        0.        ],\n",
       "       [0.14285714, 0.08695652, 0.25      , ..., 0.        , 0.        ,\n",
       "        0.        ],\n",
       "       ...,\n",
       "       [0.14285714, 0.08695652, 0.25      , ..., 0.        , 0.        ,\n",
       "        0.        ],\n",
       "       [0.14285714, 0.08695652, 0.25      , ..., 0.        , 0.        ,\n",
       "        0.        ],\n",
       "       [0.14285714, 0.08695652, 0.25      , ..., 0.        , 0.        ,\n",
       "        0.        ]])"
      ]
     },
     "execution_count": 5,
     "metadata": {},
     "output_type": "execute_result"
    }
   ],
   "source": [
    "from sklearn.preprocessing import MinMaxScaler\n",
    "scaler = MinMaxScaler()\n",
    "X_train_scaled = scaler.fit_transform(X_train)\n",
    "X_train_scaled "
   ]
  },
  {
   "cell_type": "code",
   "execution_count": 6,
   "metadata": {},
   "outputs": [],
   "source": [
    "from sklearn.linear_model import LogisticRegression\n",
    "from sklearn.svm import SVC\n",
    "from sklearn.neighbors import KNeighborsClassifier\n",
    "from sklearn.ensemble import RandomForestClassifier, GradientBoostingClassifier\n",
    "from sklearn import metrics\n",
    "from sklearn.metrics import accuracy_score"
   ]
  },
  {
   "cell_type": "code",
   "execution_count": null,
   "metadata": {},
   "outputs": [],
   "source": [
    "import numpy as np\n",
    "# coding: utf-8\n",
    "from sklearn.feature_selection import SelectPercentile, f_regression\n",
    "from sklearn.model_selection import cross_val_score\n",
    "from sklearn.linear_model import Ridge\n",
    "\n",
    "## Generemos un data set de 100 observaciones y 1000 variables\n",
    "## X y y serán independientes\n",
    "rnd = np.random.RandomState(seed = 1234)\n",
    "X = rnd.normal(size=(100, 10000))\n",
    "y = rnd.normal(size=(100,))\n",
    "\n",
    "## Recuerda que no deberíamos de aprender nada de este dataset\n",
    "\n",
    "## Seleccionamos el percentil 5  de las variables\n",
    "select = SelectPercentile(score_func=f_regression, percentile=5).fit(X,y)\n",
    "X_selected = select.transform(X)\n",
    "\n",
    "\"R^2 Cross-Validation: {:.2f}\".format(np.mean(cross_val_score(Ridge(), X_selected, y, cv=5)))"
   ]
  },
  {
   "cell_type": "code",
   "execution_count": null,
   "metadata": {},
   "outputs": [],
   "source": [
    "seed = 1\n",
    "classifier_names = ['LR',\n",
    "                    'kNN',\n",
    "                    'RBF SVM',\n",
    "                    'Random Forest',\n",
    "                    'Boosted Trees']\n",
    "classifiers = [LogisticRegression(random_state=seed),\n",
    "               KNeighborsClassifier(38),\n",
    "               SVC(gamma=2, C=1, random_state=seed),\n",
    "               RandomForestClassifier(max_depth=5, n_estimators=10, \n",
    "                                      max_features=1, random_state=seed),\n",
    "               GradientBoostingClassifier(n_estimators=10, learning_rate=1.0,\n",
    "                                          max_depth=5, random_state=seed)]\n",
    "for model in classifiers:\n",
    "    model.fit(X_train, train['TripType'])"
   ]
  },
  {
   "cell_type": "code",
   "execution_count": null,
   "metadata": {},
   "outputs": [],
   "source": [
    "def test_roc(model, data, labels):\n",
    "    if hasattr(model, \"decision_function\"):\n",
    "        predictions = model.decision_function(data)\n",
    "    else:\n",
    "        predictions = model.predict_proba(data)[:,1]\n",
    "    fpr, tpr, _ = sklearn.metrics.roc_curve(labels, predictions)\n",
    "    return fpr, tpr"
   ]
  },
  {
   "cell_type": "code",
   "execution_count": null,
   "metadata": {},
   "outputs": [],
   "source": [
    "plt.figure()\n",
    "fpr_cluster, tpr_cluster = test_roc(lr_cluster, test_with_cluster, test_labels)\n",
    "plt.plot(fpr_cluster, tpr_cluster, 'r-', label='LR with k-means')\n",
    "print('LR with k-means AUC:{}'.format(sklearn.metrics.auc(fpr_cluster, tpr_cluster)))\n",
    "\n",
    "for i, model in enumerate(classifiers):\n",
    "    fpr, tpr = test_roc(model, test_data, test_labels)\n",
    "    plt.plot(fpr, tpr, label=classifier_names[i])\n",
    "    print(classifier_names[i]+' AUC:{}'.format(sklearn.metrics.auc(fpr, tpr)))\n",
    "\n",
    "plt.plot([0, 1], [0, 1], 'k--')\n",
    "plt.legend()\n",
    "plt.xlabel('False Positive Rate', fontsize=14)\n",
    "plt.ylabel('True Positive Rate', fontsize=14)"
   ]
  },
  {
   "cell_type": "code",
   "execution_count": null,
   "metadata": {},
   "outputs": [],
   "source": [
    "## Matriz de confusión\n",
    "from sklearn.metrics import confusion_matrix\n",
    "\n",
    "mat = confusion_matrix(y_test, y_model)\n",
    "\n",
    "plt.close()\n",
    "\n",
    "sns.heatmap(mat, square = True, annot = True, cbar = False)\n",
    "plt.xlabel('Valor predicho')\n",
    "plt.ylabel('Valor real')"
   ]
  }
 ],
 "metadata": {
  "kernelspec": {
   "display_name": "Python 3",
   "language": "python",
   "name": "python3"
  },
  "language_info": {
   "codemirror_mode": {
    "name": "ipython",
    "version": 3
   },
   "file_extension": ".py",
   "mimetype": "text/x-python",
   "name": "python",
   "nbconvert_exporter": "python",
   "pygments_lexer": "ipython3",
   "version": "3.6.5"
  }
 },
 "nbformat": 4,
 "nbformat_minor": 2
}
